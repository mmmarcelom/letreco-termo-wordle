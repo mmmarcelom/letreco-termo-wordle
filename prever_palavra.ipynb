{
 "cells": [
  {
   "cell_type": "code",
   "execution_count": 127,
   "metadata": {},
   "outputs": [],
   "source": [
    "palavras = []\n",
    "with open('palavras.txt', 'r') as file:\n",
    "    palavras = file.readlines()\n",
    "    palavras = [palavra.replace('\\n', '').upper() for palavra in palavras]\n",
    "\n",
    "jogo = {\n",
    "    'letras_incorretas': set(),\n",
    "    'letras_existentes': set(),\n",
    "    'letras_corretas': {\n",
    "        0: '',\n",
    "        1: '',\n",
    "        2: '',\n",
    "        3: '',\n",
    "        4: ''\n",
    "    },\n",
    "    'palpites': {}\n",
    "}\n",
    "\n",
    "def aplicar_resultado(jogo, resultado):\n",
    "    novo_jogo = jogo\n",
    "\n",
    "    i = len(jogo['palpites'].keys())\n",
    "    novo_jogo['palpites'][i+1] = resultado['palpite']\n",
    "\n",
    "    if len(resultado['letras_corretas'].keys()) > 0: \n",
    "        novo_jogo['letras_corretas'].update(resultado['letras_corretas'])\n",
    "\n",
    "    if len(resultado['letras_incorretas']) > 0: \n",
    "        novo_jogo['letras_incorretas'] = jogo['letras_incorretas'] | resultado['letras_incorretas']\n",
    "\n",
    "    if len(resultado['letras_existentes']) > 0: \n",
    "        novo_jogo['letras_existentes'] = jogo['letras_existentes'] | resultado['letras_existentes']\n",
    "\n",
    "    return novo_jogo\n",
    "\n",
    "def check_palavra(palavra, jogo):\n",
    "    \n",
    "    for letra in jogo['letras_incorretas']:\n",
    "        if letra in palavra: \n",
    "            return False\n",
    "\n",
    "    for letra in jogo['letras_existentes']:\n",
    "        if letra not in palavra: \n",
    "            return False\n",
    "\n",
    "    for key, value in jogo['letras_corretas'].items():\n",
    "        if value != '':\n",
    "            if palavra[key] != value: return False\n",
    "    \n",
    "    return True\n",
    "\n",
    "def check(jogo, n=30):\n",
    "\n",
    "    palavras_compativeis = []\n",
    "\n",
    "    for palavra in palavras:\n",
    "        if check_palavra(palavra, jogo): palavras_compativeis.append(palavra)\n",
    "\n",
    "    print(f'Existem {len(palavras_compativeis)} palavras compatíveis.')\n",
    "    print('Exemplos:')\n",
    "    print(palavras_compativeis[:n])"
   ]
  },
  {
   "cell_type": "code",
   "execution_count": 128,
   "metadata": {},
   "outputs": [
    {
     "name": "stdout",
     "output_type": "stream",
     "text": [
      "{'letras_incorretas': {'X', 'I', 'A', 'C'}, 'letras_existentes': set(), 'letras_corretas': {0: '', 1: '', 2: '', 3: '', 4: ''}, 'palpites': {1: 'CAIXA'}}\n",
      "Existem 953 palavras compatíveis.\n",
      "Exemplos:\n",
      "['BEBEM', 'BEBER', 'BEBES', 'BEBEU', 'BELEM', 'BELOS', 'BEMOL', 'BENTO', 'BENTO', 'BENZE', 'BENZO', 'BEQUE', 'BERRE', 'BERRO', 'BLEFE', 'BLEFO', 'BOBOS', 'BODES', 'BOERS', 'BOLDO', 'BOLEM', 'BOLES', 'BOLOS', 'BOLOU', 'BOLSO', 'BONDE', 'BONES', 'BONUS', 'BORDE', 'BORDO']\n"
     ]
    }
   ],
   "source": [
    "jogo = aplicar_resultado(jogo, {\n",
    "    'palpite': 'CAIXA',\n",
    "    'letras_incorretas': {'C', 'A', 'I', 'X'},\n",
    "    'letras_existentes': {},\n",
    "    'letras_corretas': {}\n",
    "})\n",
    "\n",
    "print(jogo)\n",
    "check(jogo)"
   ]
  },
  {
   "cell_type": "code",
   "execution_count": 129,
   "metadata": {},
   "outputs": [
    {
     "name": "stdout",
     "output_type": "stream",
     "text": [
      "{'letras_incorretas': {'X', 'L', 'I', 'A', 'B', 'C'}, 'letras_existentes': {'S', 'E', 'O'}, 'letras_corretas': {0: '', 1: '', 2: '', 3: '', 4: ''}, 'palpites': {1: 'CAIXA', 2: 'BELOS'}}\n",
      "Existem 113 palavras compatíveis.\n",
      "Exemplos:\n",
      "['DEDOS', 'DEMOS', 'DENSO', 'DEPOS', 'DOMES', 'DOPES', 'DORES', 'DOSEM', 'DOSES', 'DOTES', 'EFESO', 'ERMOS', 'ERROS', 'ESOPO', 'ESTOU', 'FETOS', 'FOGES', 'FOMES', 'FONES', 'FORES', 'FOSSE', 'FOSTE', 'FRESO', 'GESSO', 'GESTO', 'GOMES', 'GORES', 'GOSTE', 'GOZES', 'MEDOS', 'MENOS', 'MEROS', 'MESMO', 'MOFES', 'MOGES', 'MORES', 'MORSE', 'MORSE', 'MOVES', 'NETOS', 'NOMES', 'NOTES', 'NOZES', 'OESTE', 'OPOES', 'OPTES', 'ORGES', 'ORNES', 'OSSEO', 'OUSEM']\n"
     ]
    }
   ],
   "source": [
    "jogo = aplicar_resultado(jogo, {\n",
    "    'palpite': 'BELOS',\n",
    "    'letras_incorretas': {'B', 'L'},\n",
    "    'letras_existentes': {'E', 'O', 'S'},\n",
    "    'letras_corretas': {}\n",
    "})\n",
    "\n",
    "print(jogo)\n",
    "check(jogo,50)"
   ]
  },
  {
   "cell_type": "code",
   "execution_count": 130,
   "metadata": {},
   "outputs": [
    {
     "name": "stdout",
     "output_type": "stream",
     "text": [
      "{'letras_incorretas': {'X', 'L', 'I', 'N', 'D', 'A', 'B', 'C'}, 'letras_existentes': {'S', 'E', 'O'}, 'letras_corretas': {0: '', 1: '', 2: '', 3: '', 4: ''}, 'palpites': {1: 'CAIXA', 2: 'BELOS', 3: 'DENSO'}}\n",
      "Existem 84 palavras compatíveis.\n",
      "Exemplos:\n",
      "['EFESO', 'ERMOS', 'ERROS', 'ESOPO', 'ESTOU', 'FETOS', 'FOGES', 'FOMES', 'FORES', 'FOSSE', 'FOSTE', 'FRESO', 'GESSO', 'GESTO', 'GOMES', 'GORES', 'GOSTE', 'GOZES', 'MEROS', 'MESMO', 'MOFES', 'MOGES', 'MORES', 'MORSE', 'MORSE', 'MOVES', 'OESTE', 'OPOES', 'OPTES', 'ORGES', 'OSSEO', 'OUSEM', 'OUSES', 'OUVES', 'PEOES', 'PESOS', 'PESOU', 'PORES', 'POSEM', 'POSES', 'POSSE', 'POSTE', 'POTES', 'POUSE', 'PRESO', 'REMOS', 'REPOS', 'RESTO', 'RETOS', 'ROGES']\n"
     ]
    }
   ],
   "source": [
    "jogo = aplicar_resultado(jogo, {\n",
    "    'palpite': 'DENSO',\n",
    "    'letras_incorretas': {'D', 'N'},\n",
    "    'letras_existentes': {'E', 'O', 'S'},\n",
    "    'letras_corretas': { }\n",
    "})\n",
    "\n",
    "print(jogo)\n",
    "check(jogo,50)"
   ]
  },
  {
   "cell_type": "code",
   "execution_count": 131,
   "metadata": {},
   "outputs": [
    {
     "name": "stdout",
     "output_type": "stream",
     "text": [
      "{'letras_incorretas': {'X', 'L', 'I', 'N', 'D', 'A', 'B', 'C'}, 'letras_existentes': {'S', 'E', 'O', 'R'}, 'letras_corretas': {0: '', 1: '', 2: 'R', 3: '', 4: ''}, 'palpites': {1: 'CAIXA', 2: 'BELOS', 3: 'DENSO', 4: 'ERROS'}}\n",
      "Existem 14 palavras compatíveis.\n",
      "Exemplos:\n",
      "['ERROS', 'FORES', 'GORES', 'MEROS', 'MORES', 'MORSE', 'MORSE', 'PORES', 'SERRO', 'SERVO', 'SORTE', 'SORVE', 'VERSO', 'ZEROS']\n"
     ]
    }
   ],
   "source": [
    "jogo = aplicar_resultado(jogo, {\n",
    "    'palpite': 'ERROS',\n",
    "    'letras_incorretas': { },\n",
    "    'letras_existentes': {'E', 'O', 'S', 'R'},\n",
    "    'letras_corretas': { 2: 'R' }\n",
    "})\n",
    "\n",
    "print(jogo)\n",
    "check(jogo,50)"
   ]
  },
  {
   "cell_type": "code",
   "execution_count": 5,
   "metadata": {},
   "outputs": [],
   "source": []
  }
 ],
 "metadata": {
  "kernelspec": {
   "display_name": "Python 3",
   "language": "python",
   "name": "python3"
  },
  "language_info": {
   "codemirror_mode": {
    "name": "ipython",
    "version": 3
   },
   "file_extension": ".py",
   "mimetype": "text/x-python",
   "name": "python",
   "nbconvert_exporter": "python",
   "pygments_lexer": "ipython3",
   "version": "3.11.4"
  },
  "orig_nbformat": 4
 },
 "nbformat": 4,
 "nbformat_minor": 2
}
