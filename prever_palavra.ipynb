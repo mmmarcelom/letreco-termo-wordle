{
 "cells": [
  {
   "cell_type": "markdown",
   "metadata": {},
   "source": [
    "CHECK LETRAS REPETIDAS\n"
   ]
  },
  {
   "cell_type": "code",
   "execution_count": 57,
   "metadata": {},
   "outputs": [],
   "source": [
    "\n",
    "palavras = []\n",
    "\n",
    "with open('palavras.txt', 'r') as file:\n",
    "    palavras = file.readlines()\n",
    "    palavras = [palavra.replace('\\n', '').upper() for palavra in palavras]\n",
    "\n",
    "def consolidate_info(current_info, current_results):\n",
    "    # Note: I've added a docstring here to guarantee usability (you can run a cell with help(consolidate_info) to check the docstring)\n",
    "    \"\"\"\n",
    "    Expects a object like with the following: {\n",
    "        'guess': 'CAIXA',\n",
    "        'incorrect': {'C', 'A', 'I', 'X'},\n",
    "        'existing': { 'B': 0, 'E': 1, },\n",
    "        'correct': { 0: 'T', 4: 'L' }\n",
    "    }\n",
    "    \"\"\"\n",
    "\n",
    "    current_info['guesses'].append(current_results['guess'])\n",
    "    current_info['correct'].update(current_results['correct'])\n",
    "    current_info['incorrect'] |= current_results['incorrect']\n",
    "    current_info['existing'] |= current_results['existing']\n",
    "    \n",
    "    return current_info\n",
    "    \n",
    "# Return false if any letter of the incorrect set is found on the word\n",
    "def pass_incorrect_check(word, incorrect_set):\n",
    "    return not any(letter in word for letter in incorrect_set) \n",
    "\n",
    "# Return false if any letter in the existing set are missing\n",
    "def pass_existing_check(word, existing_dict):\n",
    "    return all(letter in word for letter in existing_dict.keys())\n",
    "\n",
    "# Return true if all letter of the correct dict are found in the right places\n",
    "def pass_correct_check(word, correct_dict):\n",
    "    return all( word[key] == value for key, value in { key: value for key, value in correct_dict.items() if value !=''}.items() )\n",
    "\n",
    "# Return true if all missplaced letter are not found in the places we know the letter shouldn't be\n",
    "def pass_missplaced_check(word, existing_dict):\n",
    "    return not any( word[value] == key for key, value in existing_dict.items())\n",
    "\n",
    "def check_word(word, jogo):\n",
    "\n",
    "    # I've used inverted IF statements to avoid nesting, \n",
    "    # If a check fails, we simple leave the function with False\n",
    "\n",
    "    if not pass_incorrect_check(word, jogo['incorrect']): return False\n",
    "    if not pass_existing_check(word, jogo['existing']): return False\n",
    "    if not pass_correct_check(word, jogo['correct']): return False\n",
    "    if not pass_missplaced_check(word, jogo['existing']): return False\n",
    "    \n",
    "    return True\n",
    "\n",
    "def compatible_words_check(jogo):\n",
    "\n",
    "    palavras_compativeis = []\n",
    "\n",
    "    for palavra in palavras:\n",
    "        if check_word(palavra, jogo): palavras_compativeis.append(palavra)\n",
    "\n",
    "    print(f'Existem {len(palavras_compativeis)} palavras compatíveis.')\n",
    "    return palavras_compativeis"
   ]
  },
  {
   "cell_type": "code",
   "execution_count": 49,
   "metadata": {},
   "outputs": [
    {
     "name": "stdout",
     "output_type": "stream",
     "text": [
      "Help on function consolidate_info in module __main__:\n",
      "\n",
      "consolidate_info(current_info, current_results)\n",
      "    Expects a object like with the following: {\n",
      "        'guess': 'CAIXA',\n",
      "        'incorrect': {'C', 'A', 'I', 'X'},\n",
      "        'existing': { 'B': 0, 'E': 1, },\n",
      "        'correct': { 0: 'T', 4: 'L' }\n",
      "    }\n",
      "\n"
     ]
    }
   ],
   "source": [
    "help(consolidate_info)"
   ]
  },
  {
   "cell_type": "code",
   "execution_count": 66,
   "metadata": {},
   "outputs": [
    {
     "name": "stdout",
     "output_type": "stream",
     "text": [
      "Existem 373 palavras compatíveis.\n",
      "['BEBAM', 'BEBAS', 'BECAS', 'BELAS', 'BELGA', 'BENTA', 'BENZA', 'BESTA', 'BOATE', 'BOBEA', 'BOXEA', 'CABEM', 'CABES', 'CACEM', 'CACES', 'CACOE', 'CAFES', 'CAGUE', 'CALCE', 'CALEM', 'CALES', 'CALHE', 'CANSE', 'CANTE', 'CAPEM', 'CAPES', 'CAPTE', 'CASEM', 'CASES', 'CASSE']\n",
      "================================\n",
      "\n",
      "{'guesses': ['AREIA'], 'incorrect': {'R', 'I'}, 'existing': {'A': 0, 'E': 2}, 'correct': {0: '', 1: '', 2: '', 3: '', 4: ''}}\n"
     ]
    }
   ],
   "source": [
    "rodada1 = {\n",
    "    'guesses': [],\n",
    "    'incorrect': set(),\n",
    "    'existing': {},\n",
    "    'correct': {\n",
    "        0: '',\n",
    "        1: '',\n",
    "        2: '',\n",
    "        3: '',\n",
    "        4: ''\n",
    "    }\n",
    "}\n",
    "\n",
    "palpite1 = {\n",
    "        'guess': 'AREIA',\n",
    "        'incorrect': {'R', 'I'},\n",
    "        'existing': { 'A': 0, 'E': 2 },\n",
    "        'correct': {}\n",
    "    }\n",
    "\n",
    "rodada2 = consolidate_info(rodada1, palpite1)\n",
    "\n",
    "print(compatible_words_check(rodada2)[20:50])\n",
    "print('='*32+'\\n')\n",
    "print(rodada2)"
   ]
  },
  {
   "cell_type": "code",
   "execution_count": 67,
   "metadata": {},
   "outputs": [
    {
     "name": "stdout",
     "output_type": "stream",
     "text": [
      "Existem 164 palavras compatíveis.\n",
      "['ANEXO', 'ANOES', 'ANTES', 'ANUEM', 'APEGA', 'APEGO', 'APENA', 'APENO', 'APEOU', 'AQUEM', 'ASSEA', 'ASSEM', 'ASSES', 'ATEMO', 'ATENS', 'ATEOU', 'ATEUS', 'ATUEM', 'ATUES', 'AVENS', 'CEAMO', 'CEAVA', 'CEGAM', 'CEGAS', 'CENAS', 'CESSA', 'CESTA', 'CHECA', 'CHEFA', 'CHEGA']\n",
      "================================\n",
      "\n",
      "{'guesses': ['AREIA', 'BALDE'], 'incorrect': {'R', 'L', 'B', 'I', 'D'}, 'existing': {'A': 1, 'E': 4}, 'correct': {0: '', 1: '', 2: '', 3: '', 4: ''}}\n"
     ]
    }
   ],
   "source": [
    "palpite2 = {\n",
    "        'guess': 'BALDE',\n",
    "        'incorrect': {'B', 'L', 'D'},\n",
    "        'existing': { \n",
    "            'A': 0,\n",
    "            'A': 1,\n",
    "            'E': 2,\n",
    "            'E': 4\n",
    "            },\n",
    "        'correct': {}\n",
    "    }\n",
    "\n",
    "rodada3 = consolidate_info(rodada2, palpite2)\n",
    "\n",
    "print(compatible_words_check(rodada3)[20:50])\n",
    "print('='*32+'\\n')\n",
    "print(rodada3)"
   ]
  },
  {
   "cell_type": "code",
   "execution_count": 68,
   "metadata": {},
   "outputs": [
    {
     "name": "stdout",
     "output_type": "stream",
     "text": [
      "Existem 4 palavras compatíveis.\n",
      "['ENTAO', 'NEGAM', 'NEGAO', 'NEVAM']\n",
      "================================\n",
      "\n",
      "{'guesses': ['AREIA', 'BALDE', 'CENAS'], 'incorrect': {'R', 'L', 'B', 'S', 'I', 'C', 'D'}, 'existing': {'A': 1, 'E': 4, 'N': 2}, 'correct': {0: '', 1: '', 2: '', 3: 'A', 4: ''}}\n"
     ]
    }
   ],
   "source": [
    "palpite3 = {\n",
    "        'guess': 'CENAS',\n",
    "        'incorrect': {'C', 'S'},\n",
    "        'existing': { \n",
    "            'A': 0,\n",
    "            'A': 1,\n",
    "            'E': 1,\n",
    "            'E': 2,\n",
    "            'E': 4,\n",
    "            'N': 2\n",
    "            },\n",
    "        'correct': {\n",
    "            3: 'A'\n",
    "        }\n",
    "    }\n",
    "\n",
    "rodada4 = consolidate_info(rodada3, palpite3)\n",
    "\n",
    "print(compatible_words_check(rodada3))\n",
    "print('='*32+'\\n')\n",
    "print(rodada4)"
   ]
  }
 ],
 "metadata": {
  "kernelspec": {
   "display_name": "Python 3",
   "language": "python",
   "name": "python3"
  },
  "language_info": {
   "codemirror_mode": {
    "name": "ipython",
    "version": 3
   },
   "file_extension": ".py",
   "mimetype": "text/x-python",
   "name": "python",
   "nbconvert_exporter": "python",
   "pygments_lexer": "ipython3",
   "version": "3.11.4"
  },
  "orig_nbformat": 4
 },
 "nbformat": 4,
 "nbformat_minor": 2
}
